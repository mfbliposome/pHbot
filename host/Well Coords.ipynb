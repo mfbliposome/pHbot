{
 "cells": [
  {
   "cell_type": "code",
   "execution_count": 1,
   "id": "705651e0-2c05-4027-96dd-e058f00e22bb",
   "metadata": {},
   "outputs": [
    {
     "name": "stdin",
     "output_type": "stream",
     "text": [
      "Enter well positions (comma-separated, e.g., A1, b3, H12):  a4, h5\n"
     ]
    },
    {
     "name": "stdout",
     "output_type": "stream",
     "text": [
      "A4: (41.38, 74.24) mm\n",
      "H5: (50.38, 11.24) mm\n"
     ]
    }
   ],
   "source": [
    "import re\n",
    "\n",
    "def get_well_coordinates_from_string(well: str):\n",
    "    rows = ['A', 'B', 'C', 'D', 'E', 'F', 'G', 'H']\n",
    "    columns = list(range(1, 13))\n",
    "\n",
    "    # Validate and parse the well string\n",
    "    match = re.fullmatch(r'([A-Ha-h])(\\d{1,2})', well.strip())\n",
    "    if not match:\n",
    "        raise ValueError(f\"Invalid well format: '{well}'. Use format like 'A1' to 'H12'.\")\n",
    "\n",
    "    row = match.group(1).upper()\n",
    "    column = int(match.group(2))\n",
    "\n",
    "    if row not in rows:\n",
    "        raise ValueError(f\"Invalid row '{row}'. Must be A–H.\")\n",
    "    if column not in columns:\n",
    "        raise ValueError(f\"Invalid column '{column}'. Must be 1–12.\")\n",
    "\n",
    "    # Starting coordinates (center of A1)\n",
    "    x0 = 14.38  # mm from left\n",
    "    y0 = 74.24  # mm from bottom\n",
    "    spacing = 9.0  # mm between wells\n",
    "\n",
    "    row_index = rows.index(row)\n",
    "    x_mm = x0 + (column - 1) * spacing\n",
    "    y_mm = y0 - row_index * spacing\n",
    "\n",
    "    return round(x_mm, 2), round(y_mm, 2)\n",
    "\n",
    "def main():\n",
    "    user_input = input(\"Enter well positions (comma-separated, e.g., A1, b3, H12): \")\n",
    "    wells = [w.strip() for w in user_input.split(',') if w.strip()]\n",
    "\n",
    "    for well in wells:\n",
    "        try:\n",
    "            coords = get_well_coordinates_from_string(well)\n",
    "            print(f\"{well.upper()}: {coords} mm\")\n",
    "        except ValueError as e:\n",
    "            print(f\"Error with '{well}': {e}\")\n",
    "\n",
    "if __name__ == \"__main__\":\n",
    "    main()"
   ]
  },
  {
   "cell_type": "code",
   "execution_count": null,
   "id": "6c1f2e0f-56b0-4281-bd3e-04ed7816b7fb",
   "metadata": {},
   "outputs": [],
   "source": []
  }
 ],
 "metadata": {
  "kernelspec": {
   "display_name": "Python 3 (ipykernel)",
   "language": "python",
   "name": "python3"
  },
  "language_info": {
   "codemirror_mode": {
    "name": "ipython",
    "version": 3
   },
   "file_extension": ".py",
   "mimetype": "text/x-python",
   "name": "python",
   "nbconvert_exporter": "python",
   "pygments_lexer": "ipython3",
   "version": "3.11.7"
  }
 },
 "nbformat": 4,
 "nbformat_minor": 5
}
