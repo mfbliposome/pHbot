{
 "cells": [
  {
   "cell_type": "code",
   "execution_count": null,
   "id": "02bc391b",
   "metadata": {},
   "outputs": [],
   "source": [
    "from move_to_well import main\n",
    "import time"
   ]
  },
  {
   "cell_type": "code",
   "execution_count": 35,
   "id": "f04bf4c0-0393-4804-9b4b-72faede6bc2c",
   "metadata": {},
   "outputs": [
    {
     "name": "stdout",
     "output_type": "stream",
     "text": [
      "[b'X:0.00 Y:1.00 Z:130.00 E:0.00 Count X:0 Y:80 Z:52000\\n', b'ok\\n']\n"
     ]
    }
   ],
   "source": [
    "# This code only for confirm the connection with robot\n",
    "import serial\n",
    "\n",
    "baud_rate = 115200\n",
    "ser = serial.Serial('/dev/tty.usbserial-1120',baud_rate, timeout=2)\n",
    "\n",
    "ser.write(b'M114\\n')\n",
    "response = ser.readlines()\n",
    "print(response) "
   ]
  },
  {
   "cell_type": "code",
   "execution_count": null,
   "id": "c64f7805-7103-4202-8f42-bd27f4cb5d5b",
   "metadata": {},
   "outputs": [],
   "source": [
    "# This function is for sending command to robot\n",
    "\n",
    "baud_rate = 115200\n",
    "ser = serial.Serial('/dev/tty.usbserial-1120', baud_rate, timeout=2)\n",
    "time.sleep(2)  # Let the board initialize/reset\n",
    "\n",
    "# --- Send command with 'ok' confirmation ---\n",
    "def send(cmd, wait=0.2):\n",
    "    if not cmd.strip():\n",
    "        return  # Skip empty lines\n",
    "    ser.write((cmd + '\\r\\n').encode())\n",
    "    print(cmd)\n",
    "    time.sleep(wait)\n",
    "\n",
    "    # Wait for the \"ok\" response from the firmware\n",
    "    while True:\n",
    "        if ser.in_waiting:\n",
    "            line = ser.readline().decode('utf-8', errors='ignore').strip()\n",
    "            print(line)\n",
    "            if line.startswith('ok'):\n",
    "                print(f\">>> '{cmd}' completed\\n\")\n",
    "                break"
   ]
  },
  {
   "cell_type": "code",
   "execution_count": 3,
   "id": "57d6a703-34bb-4bc0-9f87-3ab9e7185a82",
   "metadata": {},
   "outputs": [
    {
     "name": "stdout",
     "output_type": "stream",
     "text": [
      "['M17 ; enable motors', 'G21 ; Set units to mm', 'G90 ; set current positioning', 'G00 Z130 ; Start at safe height\\n', 'G00 X14.38 Y74.24 ; Move to A1', 'G01 Z110 ; Dip', 'G00 Z130 ; Retract', 'G00 X0 Y0 ; Move to wash station', 'G01 Z110 ; Dip in wash', 'G2 X1.0 Y0 I1.0 J0 ; Quarter circle', 'G2 X0 Y-1.0 I0 J-1.0 ; Quarter circle', 'G2 X-1.0 Y0 I-1.0 J0 ; Quarter circle', 'G2 X0 Y1.0 I0 J1.0 ; Quarter circle (complete loop)', 'G00 Z130 ; Retract from wash\\n']\n"
     ]
    }
   ],
   "source": [
    "cmd_test=main('A1')"
   ]
  },
  {
   "cell_type": "code",
   "execution_count": null,
   "id": "6e7b8ffb-baba-4324-97e4-3da892c3f499",
   "metadata": {},
   "outputs": [],
   "source": [
    "# cmd_test=['M17 ; enable motors', 'G21 ; Set units to mm', 'G90 ; set current positioning', 'G00 Z130 ; Start at safe height\\n', 'G00 X14.38 Y74.24 ; Move to A1', 'G01 Z110 ; Dip', 'G00 Z130 ; Retract', 'G00 X0 Y0 ; Move to wash station', 'G01 Z110 ; Dip in wash', 'G2 X1.0 Y0 I1.0 J0 ; Quarter circle', 'G2 X0 Y-1.0 I0 J-1.0 ; Quarter circle', 'G2 X-1.0 Y0 I-1.0 J0 ; Quarter circle', 'G2 X0 Y1.0 I0 J1.0 ; Quarter circle (complete loop)', 'G00 Z130 ; Retract from wash\\n']"
   ]
  },
  {
   "cell_type": "code",
   "execution_count": 36,
   "id": "2c86455c-2f19-4a26-bc5b-660bbb53a805",
   "metadata": {},
   "outputs": [
    {
     "name": "stdout",
     "output_type": "stream",
     "text": [
      "M17\n",
      "ok\n",
      ">>> 'M17' completed\n",
      "\n",
      ">>> 'M17' completed — enable motors\n",
      "\n",
      "G21\n",
      "ok\n",
      ">>> 'G21' completed\n",
      "\n",
      ">>> 'G21' completed — Set units to mm\n",
      "\n",
      "G90\n",
      "ok\n",
      ">>> 'G90' completed\n",
      "\n",
      ">>> 'G90' completed — set current positioning\n",
      "\n",
      "G00 Z130\n",
      "ok\n",
      ">>> 'G00 Z130' completed\n",
      "\n",
      ">>> 'G00 Z130' completed — Start at safe height\n",
      "\n",
      "G00 X14.38 Y74.24\n",
      "ok\n",
      ">>> 'G00 X14.38 Y74.24' completed\n",
      "\n",
      ">>> 'G00 X14.38 Y74.24' completed — Move to A1\n",
      "\n",
      "G01 Z110\n",
      "ok\n",
      ">>> 'G01 Z110' completed\n",
      "\n",
      ">>> 'G01 Z110' completed — Dip\n",
      "\n",
      "G00 Z130\n",
      "ok\n",
      ">>> 'G00 Z130' completed\n",
      "\n",
      ">>> 'G00 Z130' completed — Retract\n",
      "\n",
      "G00 X0 Y0\n",
      "ok\n",
      ">>> 'G00 X0 Y0' completed\n",
      "\n",
      ">>> 'G00 X0 Y0' completed — Move to wash station\n",
      "\n",
      "G01 Z110\n",
      "ok\n",
      ">>> 'G01 Z110' completed\n",
      "\n",
      ">>> 'G01 Z110' completed — Dip in wash\n",
      "\n",
      "G2 X1.0 Y0 I1.0 J0\n",
      "echo:busy: processing\n",
      "echo:busy: processing\n",
      "ok\n",
      ">>> 'G2 X1.0 Y0 I1.0 J0' completed\n",
      "\n",
      ">>> 'G2 X1.0 Y0 I1.0 J0' completed — Quarter circle\n",
      "\n",
      "G2 X0 Y-1.0 I0 J-1.0\n",
      "echo:busy: processing\n",
      "echo:busy: processing\n",
      "echo:busy: processing\n",
      "echo:busy: processing\n",
      "ok\n",
      ">>> 'G2 X0 Y-1.0 I0 J-1.0' completed\n",
      "\n",
      ">>> 'G2 X0 Y-1.0 I0 J-1.0' completed — Quarter circle\n",
      "\n",
      "G2 X-1.0 Y0 I-1.0 J0\n",
      "ok\n",
      ">>> 'G2 X-1.0 Y0 I-1.0 J0' completed\n",
      "\n",
      ">>> 'G2 X-1.0 Y0 I-1.0 J0' completed — Quarter circle\n",
      "\n",
      "G2 X0 Y1.0 I0 J1.0\n",
      "ok\n",
      ">>> 'G2 X0 Y1.0 I0 J1.0' completed\n",
      "\n",
      ">>> 'G2 X0 Y1.0 I0 J1.0' completed — Quarter circle (complete loop)\n",
      "\n",
      "G00 Z130\n",
      "ok\n",
      ">>> 'G00 Z130' completed\n",
      "\n",
      ">>> 'G00 Z130' completed — Retract from wash\n",
      "\n"
     ]
    }
   ],
   "source": [
    "#  Perform the 'motion'\n",
    "\n",
    "for gcode in cmd_test:\n",
    "    parts = gcode.split(';', 1)\n",
    "    cmd = parts[0].strip()\n",
    "    comment = parts[1].strip() if len(parts) > 1 else ''\n",
    "\n",
    "    if cmd:  # Avoid sending empty strings\n",
    "        send(cmd)\n",
    "        print(f\">>> '{cmd}' completed — {comment}\\n\")"
   ]
  },
  {
   "cell_type": "code",
   "execution_count": null,
   "id": "2b43ec44",
   "metadata": {},
   "outputs": [],
   "source": []
  }
 ],
 "metadata": {
  "kernelspec": {
   "display_name": "Python 3 (ipykernel)",
   "language": "python",
   "name": "python3"
  },
  "language_info": {
   "codemirror_mode": {
    "name": "ipython",
    "version": 3
   },
   "file_extension": ".py",
   "mimetype": "text/x-python",
   "name": "python",
   "nbconvert_exporter": "python",
   "pygments_lexer": "ipython3",
   "version": "3.11.13"
  }
 },
 "nbformat": 4,
 "nbformat_minor": 5
}
